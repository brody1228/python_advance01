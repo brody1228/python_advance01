{
 "cells": [
  {
   "cell_type": "code",
   "execution_count": 1,
   "metadata": {},
   "outputs": [
    {
     "name": "stdout",
     "output_type": "stream",
     "text": [
      "Hello World\n"
     ]
    }
   ],
   "source": [
    "print('Hello World')"
   ]
  },
  {
   "cell_type": "code",
   "execution_count": null,
   "metadata": {},
   "outputs": [],
   "source": [
    "print('asd')"
   ]
  },
  {
   "cell_type": "code",
   "execution_count": 1,
   "metadata": {},
   "outputs": [],
   "source": [
    "import requests                       # 파이썬으로 웹연결\n",
    "from bs4 import BeautifulSoup as bs   # 데이터 분석을 용이하게 정제\n",
    "import pandas as pd                   # 데이터 분석 모듈\n"
   ]
  },
  {
   "cell_type": "code",
   "execution_count": 2,
   "metadata": {},
   "outputs": [],
   "source": [
    "\n",
    "html = requests.get('https://movie.naver.com/movie/sdb/rank/rmovie.naver?sel=cur&date=20220510')\n",
    "soup = bs(html.text)"
   ]
  },
  {
   "cell_type": "code",
   "execution_count": 3,
   "metadata": {},
   "outputs": [
    {
     "data": {
      "text/plain": [
       "53"
      ]
     },
     "execution_count": 3,
     "metadata": {},
     "output_type": "execute_result"
    }
   ],
   "source": [
    "\n",
    "len(soup.select('tr'))"
   ]
  },
  {
   "cell_type": "code",
   "execution_count": 4,
   "metadata": {},
   "outputs": [
    {
     "data": {
      "text/plain": [
       "321"
      ]
     },
     "execution_count": 4,
     "metadata": {},
     "output_type": "execute_result"
    }
   ],
   "source": [
    "len(soup.select('td'))"
   ]
  },
  {
   "cell_type": "code",
   "execution_count": 5,
   "metadata": {},
   "outputs": [
    {
     "data": {
      "text/plain": [
       "44"
      ]
     },
     "execution_count": 5,
     "metadata": {},
     "output_type": "execute_result"
    }
   ],
   "source": [
    "len(soup.select('td.title'))"
   ]
  },
  {
   "cell_type": "code",
   "execution_count": 6,
   "metadata": {},
   "outputs": [],
   "source": [
    "movies = soup.select('td.title')\n",
    "movie = movies[0]"
   ]
  },
  {
   "cell_type": "code",
   "execution_count": 11,
   "metadata": {},
   "outputs": [
    {
     "data": {
      "text/plain": [
       "'씽2게더'"
      ]
     },
     "execution_count": 11,
     "metadata": {},
     "output_type": "execute_result"
    }
   ],
   "source": [
    "movie.text.strip()"
   ]
  },
  {
   "cell_type": "code",
   "execution_count": 9,
   "metadata": {},
   "outputs": [
    {
     "data": {
      "text/plain": [
       "44"
      ]
     },
     "execution_count": 9,
     "metadata": {},
     "output_type": "execute_result"
    }
   ],
   "source": [
    "len(soup.select('td.point'))"
   ]
  },
  {
   "cell_type": "code",
   "execution_count": 12,
   "metadata": {},
   "outputs": [
    {
     "data": {
      "text/plain": [
       "<td class=\"point\">9.39</td>"
      ]
     },
     "execution_count": 12,
     "metadata": {},
     "output_type": "execute_result"
    }
   ],
   "source": [
    "points = soup.select('td.point')\n",
    "point = points[0]\n",
    "point"
   ]
  },
  {
   "cell_type": "code",
   "execution_count": 13,
   "metadata": {},
   "outputs": [
    {
     "data": {
      "text/plain": [
       "'9.39'"
      ]
     },
     "execution_count": 13,
     "metadata": {},
     "output_type": "execute_result"
    }
   ],
   "source": [
    "point.text.strip()"
   ]
  },
  {
   "cell_type": "code",
   "execution_count": 16,
   "metadata": {},
   "outputs": [
    {
     "data": {
      "text/plain": [
       "[[1, '씽2게더', '9.39'],\n",
       " [2, '극장판 귀멸의 칼날: 무한열차편', '9.27'],\n",
       " [3, '극장판 주술회전 0', '9.26'],\n",
       " [4, '피아니스트의 전설', '9.25'],\n",
       " [5, '벤허', '9.23'],\n",
       " [6, '파수꾼', '9.18'],\n",
       " [7, '코다', '9.14'],\n",
       " [8, '와이키키 브라더스', '9.11'],\n",
       " [9, '피의 연대기', '9.09'],\n",
       " [10, '비긴 어게인', '9.04'],\n",
       " [11, '개를 훔치는 완벽한 방법', '9.00'],\n",
       " [12, '중경삼림', '8.90'],\n",
       " [13, '화양연화', '8.81'],\n",
       " [14, '찬실이는 복도 많지', '8.77'],\n",
       " [15, '바닷마을 다이어리', '8.73'],\n",
       " [16, '귀향', '8.67'],\n",
       " [17, '세자매', '8.67'],\n",
       " [18, '안경', '8.64'],\n",
       " [19, '라라랜드', '8.62'],\n",
       " [20, '공기살인', '8.61'],\n",
       " [21, '나쁜 교육', '8.46'],\n",
       " [22, '아비정전', '8.45'],\n",
       " [23, '드라이브 마이 카', '8.42'],\n",
       " [24, '모가디슈', '8.33'],\n",
       " [25, '신은 죽지 않았다 3: 어둠 속의 빛', '8.32'],\n",
       " [26, '어나더 라운드', '8.30'],\n",
       " [27, '수퍼 소닉2', '8.29'],\n",
       " [28, '언어의 정원', '8.18'],\n",
       " [29, '문라이즈 킹덤', '8.12'],\n",
       " [30, '루이스 웨인: 사랑을 그린 고양이 화가', '7.97'],\n",
       " [31, '날씨의 아이', '7.96'],\n",
       " [32, '한여름의 판타지아', '7.80'],\n",
       " [33, '니 부모 얼굴이 보고 싶다', '7.72'],\n",
       " [34, '스펜서', '7.71'],\n",
       " [35, '미나리', '7.57'],\n",
       " [36, '디어 에반 핸슨', '7.46'],\n",
       " [37, '아사코', '7.28'],\n",
       " [38, '닥터 스트레인지: 대혼돈의 멀티버스', '7.26'],\n",
       " [39, '앵커', '7.25'],\n",
       " [40, '신비한 동물들과 덤블도어의 비밀', '6.53'],\n",
       " [41, '불한당: 나쁜 놈들의 세상', '6.50'],\n",
       " [42, '로스트 시티', '6.16'],\n",
       " [43, '노회찬6411', '6.05'],\n",
       " [44, '서울괴담', '4.56']]"
      ]
     },
     "execution_count": 16,
     "metadata": {},
     "output_type": "execute_result"
    }
   ],
   "source": [
    "movielist = []\n",
    "rank = 1\n",
    "\n",
    "points = soup.select('td.point') #영화제목 44개\n",
    "movies = soup.select('td.title') #영화평점 44개\n",
    "\n",
    "for each in range(len(soup.select('td.point'))):   # 44번 반복\n",
    "    title = movies[each].text.strip()\n",
    "    point = points[each].text.strip()\n",
    "    movielist.append([rank, title ,point])\n",
    "    rank += 1\n",
    "    \n",
    "movielist"
   ]
  },
  {
   "cell_type": "code",
   "execution_count": 20,
   "metadata": {},
   "outputs": [
    {
     "data": {
      "text/html": [
       "<div>\n",
       "<style scoped>\n",
       "    .dataframe tbody tr th:only-of-type {\n",
       "        vertical-align: middle;\n",
       "    }\n",
       "\n",
       "    .dataframe tbody tr th {\n",
       "        vertical-align: top;\n",
       "    }\n",
       "\n",
       "    .dataframe thead th {\n",
       "        text-align: right;\n",
       "    }\n",
       "</style>\n",
       "<table border=\"1\" class=\"dataframe\">\n",
       "  <thead>\n",
       "    <tr style=\"text-align: right;\">\n",
       "      <th></th>\n",
       "      <th>순위</th>\n",
       "      <th>제목</th>\n",
       "      <th>평점</th>\n",
       "    </tr>\n",
       "  </thead>\n",
       "  <tbody>\n",
       "    <tr>\n",
       "      <th>0</th>\n",
       "      <td>1</td>\n",
       "      <td>씽2게더</td>\n",
       "      <td>9.39</td>\n",
       "    </tr>\n",
       "    <tr>\n",
       "      <th>1</th>\n",
       "      <td>2</td>\n",
       "      <td>극장판 귀멸의 칼날: 무한열차편</td>\n",
       "      <td>9.27</td>\n",
       "    </tr>\n",
       "    <tr>\n",
       "      <th>2</th>\n",
       "      <td>3</td>\n",
       "      <td>극장판 주술회전 0</td>\n",
       "      <td>9.26</td>\n",
       "    </tr>\n",
       "    <tr>\n",
       "      <th>3</th>\n",
       "      <td>4</td>\n",
       "      <td>피아니스트의 전설</td>\n",
       "      <td>9.25</td>\n",
       "    </tr>\n",
       "    <tr>\n",
       "      <th>4</th>\n",
       "      <td>5</td>\n",
       "      <td>벤허</td>\n",
       "      <td>9.23</td>\n",
       "    </tr>\n",
       "    <tr>\n",
       "      <th>5</th>\n",
       "      <td>6</td>\n",
       "      <td>파수꾼</td>\n",
       "      <td>9.18</td>\n",
       "    </tr>\n",
       "    <tr>\n",
       "      <th>6</th>\n",
       "      <td>7</td>\n",
       "      <td>코다</td>\n",
       "      <td>9.14</td>\n",
       "    </tr>\n",
       "    <tr>\n",
       "      <th>7</th>\n",
       "      <td>8</td>\n",
       "      <td>와이키키 브라더스</td>\n",
       "      <td>9.11</td>\n",
       "    </tr>\n",
       "    <tr>\n",
       "      <th>8</th>\n",
       "      <td>9</td>\n",
       "      <td>피의 연대기</td>\n",
       "      <td>9.09</td>\n",
       "    </tr>\n",
       "    <tr>\n",
       "      <th>9</th>\n",
       "      <td>10</td>\n",
       "      <td>비긴 어게인</td>\n",
       "      <td>9.04</td>\n",
       "    </tr>\n",
       "    <tr>\n",
       "      <th>10</th>\n",
       "      <td>11</td>\n",
       "      <td>개를 훔치는 완벽한 방법</td>\n",
       "      <td>9.00</td>\n",
       "    </tr>\n",
       "    <tr>\n",
       "      <th>11</th>\n",
       "      <td>12</td>\n",
       "      <td>중경삼림</td>\n",
       "      <td>8.90</td>\n",
       "    </tr>\n",
       "    <tr>\n",
       "      <th>12</th>\n",
       "      <td>13</td>\n",
       "      <td>화양연화</td>\n",
       "      <td>8.81</td>\n",
       "    </tr>\n",
       "    <tr>\n",
       "      <th>13</th>\n",
       "      <td>14</td>\n",
       "      <td>찬실이는 복도 많지</td>\n",
       "      <td>8.77</td>\n",
       "    </tr>\n",
       "    <tr>\n",
       "      <th>14</th>\n",
       "      <td>15</td>\n",
       "      <td>바닷마을 다이어리</td>\n",
       "      <td>8.73</td>\n",
       "    </tr>\n",
       "    <tr>\n",
       "      <th>15</th>\n",
       "      <td>16</td>\n",
       "      <td>귀향</td>\n",
       "      <td>8.67</td>\n",
       "    </tr>\n",
       "    <tr>\n",
       "      <th>16</th>\n",
       "      <td>17</td>\n",
       "      <td>세자매</td>\n",
       "      <td>8.67</td>\n",
       "    </tr>\n",
       "    <tr>\n",
       "      <th>17</th>\n",
       "      <td>18</td>\n",
       "      <td>안경</td>\n",
       "      <td>8.64</td>\n",
       "    </tr>\n",
       "    <tr>\n",
       "      <th>18</th>\n",
       "      <td>19</td>\n",
       "      <td>라라랜드</td>\n",
       "      <td>8.62</td>\n",
       "    </tr>\n",
       "    <tr>\n",
       "      <th>19</th>\n",
       "      <td>20</td>\n",
       "      <td>공기살인</td>\n",
       "      <td>8.61</td>\n",
       "    </tr>\n",
       "    <tr>\n",
       "      <th>20</th>\n",
       "      <td>21</td>\n",
       "      <td>나쁜 교육</td>\n",
       "      <td>8.46</td>\n",
       "    </tr>\n",
       "    <tr>\n",
       "      <th>21</th>\n",
       "      <td>22</td>\n",
       "      <td>아비정전</td>\n",
       "      <td>8.45</td>\n",
       "    </tr>\n",
       "    <tr>\n",
       "      <th>22</th>\n",
       "      <td>23</td>\n",
       "      <td>드라이브 마이 카</td>\n",
       "      <td>8.42</td>\n",
       "    </tr>\n",
       "    <tr>\n",
       "      <th>23</th>\n",
       "      <td>24</td>\n",
       "      <td>모가디슈</td>\n",
       "      <td>8.33</td>\n",
       "    </tr>\n",
       "    <tr>\n",
       "      <th>24</th>\n",
       "      <td>25</td>\n",
       "      <td>신은 죽지 않았다 3: 어둠 속의 빛</td>\n",
       "      <td>8.32</td>\n",
       "    </tr>\n",
       "    <tr>\n",
       "      <th>25</th>\n",
       "      <td>26</td>\n",
       "      <td>어나더 라운드</td>\n",
       "      <td>8.30</td>\n",
       "    </tr>\n",
       "    <tr>\n",
       "      <th>26</th>\n",
       "      <td>27</td>\n",
       "      <td>수퍼 소닉2</td>\n",
       "      <td>8.29</td>\n",
       "    </tr>\n",
       "    <tr>\n",
       "      <th>27</th>\n",
       "      <td>28</td>\n",
       "      <td>언어의 정원</td>\n",
       "      <td>8.18</td>\n",
       "    </tr>\n",
       "    <tr>\n",
       "      <th>28</th>\n",
       "      <td>29</td>\n",
       "      <td>문라이즈 킹덤</td>\n",
       "      <td>8.12</td>\n",
       "    </tr>\n",
       "    <tr>\n",
       "      <th>29</th>\n",
       "      <td>30</td>\n",
       "      <td>루이스 웨인: 사랑을 그린 고양이 화가</td>\n",
       "      <td>7.97</td>\n",
       "    </tr>\n",
       "    <tr>\n",
       "      <th>30</th>\n",
       "      <td>31</td>\n",
       "      <td>날씨의 아이</td>\n",
       "      <td>7.96</td>\n",
       "    </tr>\n",
       "    <tr>\n",
       "      <th>31</th>\n",
       "      <td>32</td>\n",
       "      <td>한여름의 판타지아</td>\n",
       "      <td>7.80</td>\n",
       "    </tr>\n",
       "    <tr>\n",
       "      <th>32</th>\n",
       "      <td>33</td>\n",
       "      <td>니 부모 얼굴이 보고 싶다</td>\n",
       "      <td>7.72</td>\n",
       "    </tr>\n",
       "    <tr>\n",
       "      <th>33</th>\n",
       "      <td>34</td>\n",
       "      <td>스펜서</td>\n",
       "      <td>7.71</td>\n",
       "    </tr>\n",
       "    <tr>\n",
       "      <th>34</th>\n",
       "      <td>35</td>\n",
       "      <td>미나리</td>\n",
       "      <td>7.57</td>\n",
       "    </tr>\n",
       "    <tr>\n",
       "      <th>35</th>\n",
       "      <td>36</td>\n",
       "      <td>디어 에반 핸슨</td>\n",
       "      <td>7.46</td>\n",
       "    </tr>\n",
       "    <tr>\n",
       "      <th>36</th>\n",
       "      <td>37</td>\n",
       "      <td>아사코</td>\n",
       "      <td>7.28</td>\n",
       "    </tr>\n",
       "    <tr>\n",
       "      <th>37</th>\n",
       "      <td>38</td>\n",
       "      <td>닥터 스트레인지: 대혼돈의 멀티버스</td>\n",
       "      <td>7.26</td>\n",
       "    </tr>\n",
       "    <tr>\n",
       "      <th>38</th>\n",
       "      <td>39</td>\n",
       "      <td>앵커</td>\n",
       "      <td>7.25</td>\n",
       "    </tr>\n",
       "    <tr>\n",
       "      <th>39</th>\n",
       "      <td>40</td>\n",
       "      <td>신비한 동물들과 덤블도어의 비밀</td>\n",
       "      <td>6.53</td>\n",
       "    </tr>\n",
       "    <tr>\n",
       "      <th>40</th>\n",
       "      <td>41</td>\n",
       "      <td>불한당: 나쁜 놈들의 세상</td>\n",
       "      <td>6.50</td>\n",
       "    </tr>\n",
       "    <tr>\n",
       "      <th>41</th>\n",
       "      <td>42</td>\n",
       "      <td>로스트 시티</td>\n",
       "      <td>6.16</td>\n",
       "    </tr>\n",
       "    <tr>\n",
       "      <th>42</th>\n",
       "      <td>43</td>\n",
       "      <td>노회찬6411</td>\n",
       "      <td>6.05</td>\n",
       "    </tr>\n",
       "    <tr>\n",
       "      <th>43</th>\n",
       "      <td>44</td>\n",
       "      <td>서울괴담</td>\n",
       "      <td>4.56</td>\n",
       "    </tr>\n",
       "  </tbody>\n",
       "</table>\n",
       "</div>"
      ],
      "text/plain": [
       "    순위                     제목    평점\n",
       "0    1                   씽2게더  9.39\n",
       "1    2      극장판 귀멸의 칼날: 무한열차편  9.27\n",
       "2    3             극장판 주술회전 0  9.26\n",
       "3    4              피아니스트의 전설  9.25\n",
       "4    5                     벤허  9.23\n",
       "5    6                    파수꾼  9.18\n",
       "6    7                     코다  9.14\n",
       "7    8              와이키키 브라더스  9.11\n",
       "8    9                 피의 연대기  9.09\n",
       "9   10                 비긴 어게인  9.04\n",
       "10  11          개를 훔치는 완벽한 방법  9.00\n",
       "11  12                   중경삼림  8.90\n",
       "12  13                   화양연화  8.81\n",
       "13  14             찬실이는 복도 많지  8.77\n",
       "14  15              바닷마을 다이어리  8.73\n",
       "15  16                     귀향  8.67\n",
       "16  17                    세자매  8.67\n",
       "17  18                     안경  8.64\n",
       "18  19                   라라랜드  8.62\n",
       "19  20                   공기살인  8.61\n",
       "20  21                  나쁜 교육  8.46\n",
       "21  22                   아비정전  8.45\n",
       "22  23              드라이브 마이 카  8.42\n",
       "23  24                   모가디슈  8.33\n",
       "24  25   신은 죽지 않았다 3: 어둠 속의 빛  8.32\n",
       "25  26                어나더 라운드  8.30\n",
       "26  27                 수퍼 소닉2  8.29\n",
       "27  28                 언어의 정원  8.18\n",
       "28  29                문라이즈 킹덤  8.12\n",
       "29  30  루이스 웨인: 사랑을 그린 고양이 화가  7.97\n",
       "30  31                 날씨의 아이  7.96\n",
       "31  32              한여름의 판타지아  7.80\n",
       "32  33         니 부모 얼굴이 보고 싶다  7.72\n",
       "33  34                    스펜서  7.71\n",
       "34  35                    미나리  7.57\n",
       "35  36               디어 에반 핸슨  7.46\n",
       "36  37                    아사코  7.28\n",
       "37  38    닥터 스트레인지: 대혼돈의 멀티버스  7.26\n",
       "38  39                     앵커  7.25\n",
       "39  40      신비한 동물들과 덤블도어의 비밀  6.53\n",
       "40  41         불한당: 나쁜 놈들의 세상  6.50\n",
       "41  42                 로스트 시티  6.16\n",
       "42  43                노회찬6411  6.05\n",
       "43  44                   서울괴담  4.56"
      ]
     },
     "execution_count": 20,
     "metadata": {},
     "output_type": "execute_result"
    }
   ],
   "source": [
    "df = pd.DataFrame(movielist, columns = ['순위', '제목', '평점'])\n",
    "df\n",
    "\n"
   ]
  },
  {
   "cell_type": "code",
   "execution_count": 21,
   "metadata": {},
   "outputs": [],
   "source": [
    "####################################################\n",
    "#벅스 음원 차트 크롤링\n",
    "\n",
    "import requests #파이썬으로 웹페이지 연결\n",
    "from bs4 import BeautifulSoup as bs # 비누칠의 역활 (분석을 용이하게 정제)\n",
    "import pandas as pd #데이터 분석 관련 모듈\n",
    "\n"
   ]
  },
  {
   "cell_type": "code",
   "execution_count": 22,
   "metadata": {},
   "outputs": [],
   "source": [
    "html = requests.get('https://music.bugs.co.kr/chart') #페이지 소스 읽어오기\n",
    "soup = bs(html.text) #소스를 정제\n",
    "\n"
   ]
  },
  {
   "cell_type": "code",
   "execution_count": 23,
   "metadata": {},
   "outputs": [
    {
     "data": {
      "text/plain": [
       "104"
      ]
     },
     "execution_count": 23,
     "metadata": {},
     "output_type": "execute_result"
    }
   ],
   "source": [
    "len(soup.select('tr'))\n",
    "\n"
   ]
  },
  {
   "cell_type": "code",
   "execution_count": 24,
   "metadata": {},
   "outputs": [
    {
     "data": {
      "text/plain": [
       "311"
      ]
     },
     "execution_count": 24,
     "metadata": {},
     "output_type": "execute_result"
    }
   ],
   "source": [
    "len(soup.select('p'))"
   ]
  },
  {
   "cell_type": "code",
   "execution_count": 25,
   "metadata": {},
   "outputs": [
    {
     "data": {
      "text/plain": [
       "100"
      ]
     },
     "execution_count": 25,
     "metadata": {},
     "output_type": "execute_result"
    }
   ],
   "source": [
    "len(soup.select('p.title'))"
   ]
  },
  {
   "cell_type": "code",
   "execution_count": 27,
   "metadata": {},
   "outputs": [
    {
     "data": {
      "text/plain": [
       "<a adultcheckval=\"1\" aria-label=\"새창\" href=\"javascript:;\" onclick=\"bugs.wiselog.area('list_tr_09_chart');bugs.music.listen('32530582',true);\n",
       "\" title=\"That That (prod. &amp; feat. SUGA of BTS)\">That That (prod. &amp; feat. SUGA of BTS)</a>"
      ]
     },
     "execution_count": 27,
     "metadata": {},
     "output_type": "execute_result"
    }
   ],
   "source": [
    "titles = soup.select('p.title > a') #p테그에 있는 아래에 a태그 말하는 것이다\n",
    "title = titles[0]\n",
    "title"
   ]
  },
  {
   "cell_type": "code",
   "execution_count": 30,
   "metadata": {},
   "outputs": [
    {
     "data": {
      "text/plain": [
       "'That That (prod. & feat. SUGA of BTS)'"
      ]
     },
     "execution_count": 30,
     "metadata": {},
     "output_type": "execute_result"
    }
   ],
   "source": [
    "title.text.strip()"
   ]
  },
  {
   "cell_type": "code",
   "execution_count": 31,
   "metadata": {},
   "outputs": [
    {
     "data": {
      "text/plain": [
       "<a href=\"https://music.bugs.co.kr/artist/3572?wl_ref=list_tr_10_chart\" onclick=\"\n",
       "\" title=\"싸이 (PSY)\">싸이 (PSY)</a>"
      ]
     },
     "execution_count": 31,
     "metadata": {},
     "output_type": "execute_result"
    }
   ],
   "source": [
    "# 0번째 가수명 추출\n",
    "\n",
    "singers = soup.select('p.artist > a')\n",
    "singer = singers[0]\n",
    "singer\n",
    "\n",
    "\n"
   ]
  },
  {
   "cell_type": "code",
   "execution_count": 32,
   "metadata": {},
   "outputs": [
    {
     "data": {
      "text/plain": [
       "'싸이 (PSY)'"
      ]
     },
     "execution_count": 32,
     "metadata": {},
     "output_type": "execute_result"
    }
   ],
   "source": [
    "# 0번째 가수명 추출\n",
    "artists = soup.select('p.artist > a')\n",
    "artist = artists[0]\n",
    "artist.text.strip()\n"
   ]
  },
  {
   "cell_type": "code",
   "execution_count": 34,
   "metadata": {},
   "outputs": [
    {
     "ename": "IndexError",
     "evalue": "list index out of range",
     "output_type": "error",
     "traceback": [
      "\u001b[1;31m---------------------------------------------------------------------------\u001b[0m",
      "\u001b[1;31mIndexError\u001b[0m                                Traceback (most recent call last)",
      "\u001b[1;32m~\\AppData\\Local\\Temp/ipykernel_19316/2632228016.py\u001b[0m in \u001b[0;36m<module>\u001b[1;34m\u001b[0m\n\u001b[0;32m      7\u001b[0m \u001b[1;33m\u001b[0m\u001b[0m\n\u001b[0;32m      8\u001b[0m \u001b[1;32mfor\u001b[0m \u001b[0meach\u001b[0m \u001b[1;32min\u001b[0m \u001b[0mrange\u001b[0m\u001b[1;33m(\u001b[0m\u001b[0mlen\u001b[0m\u001b[1;33m(\u001b[0m\u001b[0msoup\u001b[0m\u001b[1;33m.\u001b[0m\u001b[0mselect\u001b[0m\u001b[1;33m(\u001b[0m\u001b[1;34m'p.title >a'\u001b[0m\u001b[1;33m)\u001b[0m\u001b[1;33m)\u001b[0m\u001b[1;33m)\u001b[0m\u001b[1;33m:\u001b[0m   \u001b[1;31m# 100번 반복\u001b[0m\u001b[1;33m\u001b[0m\u001b[1;33m\u001b[0m\u001b[0m\n\u001b[1;32m----> 9\u001b[1;33m     \u001b[0mtitle\u001b[0m \u001b[1;33m=\u001b[0m \u001b[0mmovies\u001b[0m\u001b[1;33m[\u001b[0m\u001b[0meach\u001b[0m\u001b[1;33m]\u001b[0m\u001b[1;33m.\u001b[0m\u001b[0mtext\u001b[0m\u001b[1;33m.\u001b[0m\u001b[0mstrip\u001b[0m\u001b[1;33m(\u001b[0m\u001b[1;33m)\u001b[0m\u001b[1;33m\u001b[0m\u001b[1;33m\u001b[0m\u001b[0m\n\u001b[0m\u001b[0;32m     10\u001b[0m     \u001b[0martist\u001b[0m \u001b[1;33m=\u001b[0m \u001b[0martists\u001b[0m\u001b[1;33m[\u001b[0m\u001b[0meach\u001b[0m\u001b[1;33m]\u001b[0m\u001b[1;33m.\u001b[0m\u001b[0mtext\u001b[0m\u001b[1;33m.\u001b[0m\u001b[0mstrip\u001b[0m\u001b[1;33m(\u001b[0m\u001b[1;33m)\u001b[0m\u001b[1;33m\u001b[0m\u001b[1;33m\u001b[0m\u001b[0m\n\u001b[0;32m     11\u001b[0m     \u001b[0msonglist\u001b[0m\u001b[1;33m.\u001b[0m\u001b[0mappend\u001b[0m\u001b[1;33m(\u001b[0m\u001b[1;33m[\u001b[0m\u001b[1;34m'Bugs'\u001b[0m\u001b[1;33m,\u001b[0m\u001b[0mrank\u001b[0m\u001b[1;33m,\u001b[0m \u001b[0mtitle\u001b[0m \u001b[1;33m,\u001b[0m\u001b[0martist\u001b[0m\u001b[1;33m]\u001b[0m\u001b[1;33m)\u001b[0m\u001b[1;33m\u001b[0m\u001b[1;33m\u001b[0m\u001b[0m\n",
      "\u001b[1;31mIndexError\u001b[0m: list index out of range"
     ]
    }
   ],
   "source": [
    "songlist = []\n",
    "rank = 1\n",
    "\n",
    "title = soup.select('p.title > a')\n",
    "artists = soup.select('p.artist > a')\n",
    "\n",
    "\n",
    "for each in range(len(soup.select('p.title >a'))):   # 100번 반복\n",
    "    title = movies[each].text.strip()\n",
    "    artist = artists[each].text.strip()\n",
    "    songlist.append(['Bugs',rank, title ,artist])\n",
    "    rank += 1\n",
    "\n",
    "songlist"
   ]
  },
  {
   "cell_type": "code",
   "execution_count": null,
   "metadata": {},
   "outputs": [],
   "source": [
    "df = pd.DataFrame(songlist, columns )= ['차트명',]"
   ]
  },
  {
   "cell_type": "code",
   "execution_count": null,
   "metadata": {},
   "outputs": [],
   "source": [
    "df.to_excel('bugs.xlsx', index=False) \n",
    "#엑셀로 저장시에는 인덱스를 빼고 저장"
   ]
  },
  {
   "cell_type": "code",
   "execution_count": null,
   "metadata": {},
   "outputs": [],
   "source": [
    "df.to_csv('bugs.csv')"
   ]
  }
 ],
 "metadata": {
  "interpreter": {
   "hash": "ad2bdc8ecc057115af97d19610ffacc2b4e99fae6737bb82f5d7fb13d2f2c186"
  },
  "kernelspec": {
   "display_name": "Python 3.9.7 ('base')",
   "language": "python",
   "name": "python3"
  },
  "language_info": {
   "codemirror_mode": {
    "name": "ipython",
    "version": 3
   },
   "file_extension": ".py",
   "mimetype": "text/x-python",
   "name": "python",
   "nbconvert_exporter": "python",
   "pygments_lexer": "ipython3",
   "version": "3.9.7"
  },
  "orig_nbformat": 4
 },
 "nbformat": 4,
 "nbformat_minor": 2
}
